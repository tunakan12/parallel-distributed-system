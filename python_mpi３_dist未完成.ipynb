{
  "nbformat": 4,
  "nbformat_minor": 0,
  "metadata": {
    "colab": {
      "provenance": [],
      "collapsed_sections": [
        "BQHIIKnGz9DS",
        "2WzC599g0Y5f",
        "yG5R657y1J_Z",
        "W9uFNXZW4Puw",
        "L4R6yddXU1dd",
        "SH8b0SLr7X6K"
      ]
    },
    "kernelspec": {
      "name": "python3",
      "display_name": "Python 3"
    }
  },
  "cells": [
    {
      "cell_type": "markdown",
      "source": [
        "# MPIプログラム 課題\n"
      ],
      "metadata": {
        "id": "BQHIIKnGz9DS"
      }
    },
    {
      "cell_type": "markdown",
      "source": [
        "## 課題について"
      ],
      "metadata": {
        "id": "2WzC599g0Y5f"
      }
    },
    {
      "cell_type": "markdown",
      "metadata": {
        "id": "HU0otR3VaoRz"
      },
      "source": [
        "課題１、２、３がある。それぞれのGoogleFormに指定されいてる形で、colabのリンクを含めて5月30日までに提出せよ。CoursePowerに提出場所（GoogleForm）が設定されている。\n",
        "\n",
        "### GoogleColab について2\n",
        "pythonのコードの実行がブラウザ上でできるサービス。実行する際に計算リソースに割り付けられて実行する\n",
        "- コード部分 左側の括弧にマウスポインタを持って行くと実行できる\n",
        "- テキスト部分 マークダウン形式で文章がかける\n",
        "\n",
        "ファイルからドライブにコピーを保存を選択し、その後は自分のドライブにコピーされるのでそれを実行していく\n",
        "\n",
        "### C言語の実行について\n",
        "- ！をつければコマンドを実行でき、C言語のコンパイルもできる\n",
        "- コード部分に %%file ファイル名 と記述することで、ファイルの中身を記述することができる\n",
        "- ! gcc test.c\n",
        "  - test.cをコンパイルし、a.outの実行ファイルを作成する\n",
        "- ! ./a.out\n",
        "  - a.outを実行\n"
      ]
    },
    {
      "cell_type": "markdown",
      "source": [
        "## 課題１"
      ],
      "metadata": {
        "id": "yG5R657y1J_Z"
      }
    },
    {
      "cell_type": "markdown",
      "metadata": {
        "id": "mqWZAMFcUF4G"
      },
      "source": [
        "temp1.cをコンパイルし、10プロセスで実行せよ。実行結果を値の意味も含めて説明せよ。\n",
        "\n",
        "Colab関連補足\n",
        "- ! mpicc file.c\n",
        "  - mpiのプログラムをコンパイルし、実行ファイルを生成する\n",
        "- ! mpiexec --allow-run-as-root --oversubscribe -np 3 ./a.out\n",
        "  - これは3プロセスでmpiプログラム ./a.out を実行する\n"
      ]
    },
    {
      "cell_type": "code",
      "metadata": {
        "id": "-7x6fXPkZcd6",
        "colab": {
          "base_uri": "https://localhost:8080/"
        },
        "outputId": "0acbdb93-a1ab-46f8-a941-fdb0cf29c07e"
      },
      "source": [
        "%%file temp1.c\n",
        "#include <stdio.h>\n",
        "#include <mpi.h>\n",
        "int main(){\n",
        "  int i, my_rank, num_procs;\n",
        "  MPI_Init(NULL, NULL);\n",
        "  MPI_Comm_rank(MPI_COMM_WORLD, &my_rank);\n",
        "  MPI_Comm_size(MPI_COMM_WORLD, &num_procs);\n",
        "\n",
        "  printf(\"numprocs:%3d my_rank:%3d \\n\",num_procs, my_rank);\n",
        "\n",
        "  MPI_Finalize();\n",
        "  return 0;\n",
        "}"
      ],
      "execution_count": 1,
      "outputs": [
        {
          "output_type": "stream",
          "name": "stdout",
          "text": [
            "Writing temp1.c\n"
          ]
        }
      ]
    },
    {
      "cell_type": "code",
      "metadata": {
        "id": "3AE_kKpBaszT",
        "colab": {
          "base_uri": "https://localhost:8080/"
        },
        "outputId": "831f1998-0f69-429e-b3c5-bf204977afeb"
      },
      "source": [
        "! mpicc temp1.c\n",
        "! mpiexec --allow-run-as-root --oversubscribe -np 10 ./a.out"
      ],
      "execution_count": 9,
      "outputs": [
        {
          "output_type": "stream",
          "name": "stdout",
          "text": [
            "numprocs: 10 my_rank:  1 \n",
            "numprocs: 10 my_rank:  3 \n",
            "numprocs: 10 my_rank:  4 \n",
            "numprocs: 10 my_rank:  8 \n",
            "numprocs: 10 my_rank:  2 \n",
            "numprocs: 10 my_rank:  9 \n",
            "numprocs: 10 my_rank:  0 \n",
            "numprocs: 10 my_rank:  6 \n",
            "numprocs: 10 my_rank:  5 \n",
            "numprocs: 10 my_rank:  7 \n"
          ]
        }
      ]
    },
    {
      "cell_type": "markdown",
      "source": [
        "## 課題２"
      ],
      "metadata": {
        "id": "W9uFNXZW4Puw"
      }
    },
    {
      "cell_type": "markdown",
      "metadata": {
        "id": "wahf31zfiQJo"
      },
      "source": [
        "1プロセスの時のinner_product.c の実行時間を詳細に分けて計測し、プログラムとしては何倍まで高速化できそうか見積もってみよ。そのため、自分で時間計測関数を挿入せよ。\n",
        "\n",
        "scatterを読んでいるため、プロセス数がベクトルサイズの約数とならなければならないことに注意せよ。\n",
        "\n",
        "###実行時間計測場所\n",
        "メイン関数内のtimer1からtimer4まで計測する。下に書かれているように、時間計測では、MPI_Barrier関数とMPI_Wtime関数を使う。\n",
        "\n",
        "###プログラム内容と実行時間\n",
        "- あるプロセスでベクトルを乱数で初期化 （逐次処理）\n",
        "  - timer1-timer2\n",
        "- それを全プロセスに分散（逐次処理）\n",
        "  - timer2-timer3\n",
        "- 並列に内積計算（並列処理）\n",
        "  - timer3-timer4\n",
        "\n",
        "\n",
        "\n"
      ]
    },
    {
      "cell_type": "code",
      "metadata": {
        "id": "jqisgg45jER7",
        "colab": {
          "base_uri": "https://localhost:8080/"
        },
        "outputId": "72a0c074-508e-4548-b65e-87384691e5ba"
      },
      "source": [
        "%%file inner_product_mpi.c\n",
        "#include<stdio.h>\n",
        "#include<stdlib.h>\n",
        "#include<mpi.h>\n",
        "void init_data(double *X, int size)\n",
        "{\n",
        "  int i;\n",
        "  srand(10);\n",
        "  for(i=0;i<size;i++) X[i]= (double)rand();\n",
        "}\n",
        "\n",
        "double inner_product2(double *data1,double  *data2, int n)\n",
        "{\n",
        "   double val, nrm;\n",
        "   int j;\n",
        "   val = 0.0;\n",
        "   for(j=0;j<n;j++) val += data1[j]*data2[j];\n",
        "   MPI_Allreduce(&val, &nrm, 1, MPI_DOUBLE, MPI_SUM, MPI_COMM_WORLD);\n",
        "   return(nrm);\n",
        "}\n",
        "\n",
        "int main()\n",
        "{\n",
        "  double *X,*pX,nrm;\n",
        "  int n,SIZE=10000000, my_rank, numproc;;\n",
        "  MPI_Init(NULL, NULL);\n",
        "  MPI_Comm_rank(MPI_COMM_WORLD, &my_rank);\n",
        "  MPI_Comm_size(MPI_COMM_WORLD, &numproc);\n",
        "\n",
        "  //---timer 1\n",
        "\n",
        "  if(my_rank==0){\n",
        "    X=(double *)malloc(sizeof(double)*SIZE);\n",
        "    init_data(X, SIZE);\n",
        "  }\n",
        "\n",
        "  //---timer 2\n",
        "\n",
        "  n=SIZE/numproc;// 割り切れる必要あり\n",
        "  pX = (double*)malloc(sizeof(double) * n);\n",
        "  MPI_Scatter(X, n, MPI_DOUBLE, pX, n, MPI_DOUBLE, 0, MPI_COMM_WORLD);\n",
        "\n",
        "  //---timer 3\n",
        "\n",
        "\n",
        "  nrm=inner_product2(pX, pX, n);\n",
        "  if(my_rank==0) printf(\"length^2 is %f\\n\", nrm);\n",
        "\n",
        "  //---timer 4\n",
        "\n",
        "  MPI_Finalize();\n",
        "}"
      ],
      "execution_count": 3,
      "outputs": [
        {
          "output_type": "stream",
          "name": "stdout",
          "text": [
            "Writing inner_product_mpi.c\n"
          ]
        }
      ]
    },
    {
      "cell_type": "code",
      "metadata": {
        "id": "dMdxUc6mjR-1",
        "colab": {
          "base_uri": "https://localhost:8080/"
        },
        "outputId": "06590fa6-2aac-46a7-8cea-29f3b8f63539"
      },
      "source": [
        "! mpicc inner_product_mpi.c\n",
        "! time mpiexec --allow-run-as-root --oversubscribe -np 1 a.out\n"
      ],
      "execution_count": 4,
      "outputs": [
        {
          "output_type": "stream",
          "name": "stdout",
          "text": [
            "length^2 is 15373394046108394074406912.000000\n",
            "\n",
            "real\t0m1.626s\n",
            "user\t0m0.520s\n",
            "sys\t0m0.194s\n"
          ]
        }
      ]
    },
    {
      "cell_type": "markdown",
      "source": [
        "## 課題３"
      ],
      "metadata": {
        "id": "L4R6yddXU1dd"
      }
    },
    {
      "cell_type": "markdown",
      "source": [
        "下のコードは、ランク番号の隣接するプロセス間で、整数1個を交換するプログラムである。隣接するプロセスとは、ここでは連番のプロセス（ランク番号がmy_rank-1,my_rank+1の２プロセス）を意味する。\n",
        "\n",
        "if文の条件式を適切に設定すると、どんなプロセス数で実行しても動作するようになる。\n",
        "...内を適切に修正せよ。また、２プロセス間で通信する際に時間計測を行い、プロセス間で整数1個交換するのに、どの程度の時間がかかっているか見積もってみよ。"
      ],
      "metadata": {
        "id": "AM8DA9CWdHEg"
      }
    },
    {
      "cell_type": "code",
      "source": [
        "%%file test.c\n",
        "#include<stdio.h>\n",
        "#include<stdlib.h>\n",
        "#include<mpi.h>\n",
        "\n",
        "int main()\n",
        "{\n",
        "  int my_rank, numproc;\n",
        "  int val, rval1=-1, rval2=-1;\n",
        "  MPI_Init(NULL, NULL);\n",
        "  MPI_Comm_rank(MPI_COMM_WORLD, &my_rank);\n",
        "  MPI_Comm_size(MPI_COMM_WORLD, &numproc);\n",
        "\n",
        "  MPI_Status s;\n",
        "  val = my_rank;\n",
        "\n",
        "  // my_rank <--> my_rank-1 data交換\n",
        "  if(...){\n",
        "    MPI_Send(&val, 1,MPI_INT,my_rank-1, 0,MPI_COMM_WORLD);\n",
        "    MPI_Recv(&rval1,1,MPI_INT,my_rank-1,0,MPI_COMM_WORLD,&s);\n",
        "  }\n",
        "\n",
        "  // my_rank <--> my_rank+1 data交換 >\n",
        "  if(...){\n",
        "    MPI_Send(&val, 1,MPI_INT,my_rank+1, 0,MPI_COMM_WORLD);\n",
        "    MPI_Recv(&rval2,1,MPI_INT,my_rank+1,0,MPI_COMM_WORLD,&s);\n",
        "  }\n",
        "\n",
        "  printf(\"%d my_rank:%d %d\\n\", rval1, val, rval2);\n",
        "  MPI_Finalize();\n",
        "}"
      ],
      "metadata": {
        "id": "a_LeczQIVA9Y",
        "colab": {
          "base_uri": "https://localhost:8080/"
        },
        "outputId": "02db1e6c-2c29-4014-c3c0-953161de8132"
      },
      "execution_count": 5,
      "outputs": [
        {
          "output_type": "stream",
          "name": "stdout",
          "text": [
            "Writing test.c\n"
          ]
        }
      ]
    },
    {
      "cell_type": "code",
      "source": [
        "! mpicc test.c\n",
        "! mpiexec --allow-run-as-root --oversubscribe -np 10 a.out"
      ],
      "metadata": {
        "id": "L41oWMYDavjN",
        "colab": {
          "base_uri": "https://localhost:8080/"
        },
        "outputId": "92c29ed0-2145-4ed5-91a1-bb5be83fcfee"
      },
      "execution_count": 6,
      "outputs": [
        {
          "output_type": "stream",
          "name": "stdout",
          "text": [
            "\u001b[01m\u001b[Ktest.c:\u001b[m\u001b[K In function ‘\u001b[01m\u001b[Kmain\u001b[m\u001b[K’:\n",
            "\u001b[01m\u001b[Ktest.c:17:6:\u001b[m\u001b[K \u001b[01;31m\u001b[Kerror: \u001b[m\u001b[Kexpected expression before ‘\u001b[01m\u001b[K...\u001b[m\u001b[K’ token\n",
            "   17 |   if(\u001b[01;31m\u001b[K...\u001b[m\u001b[K){\n",
            "      |      \u001b[01;31m\u001b[K^~~\u001b[m\u001b[K\n",
            "\u001b[01m\u001b[Ktest.c:23:6:\u001b[m\u001b[K \u001b[01;31m\u001b[Kerror: \u001b[m\u001b[Kexpected expression before ‘\u001b[01m\u001b[K...\u001b[m\u001b[K’ token\n",
            "   23 |   if(\u001b[01;31m\u001b[K...\u001b[m\u001b[K){\n",
            "      |      \u001b[01;31m\u001b[K^~~\u001b[m\u001b[K\n",
            "length^2 is 15373394046106489256411136.000000\n"
          ]
        }
      ]
    },
    {
      "cell_type": "markdown",
      "source": [
        "# 時間計測方法"
      ],
      "metadata": {
        "id": "SH8b0SLr7X6K"
      }
    },
    {
      "cell_type": "markdown",
      "metadata": {
        "id": "ohegLSC2x-cX"
      },
      "source": [
        "特定の部分の時間を計測する方法について説明する\n",
        "- MPI_Wtime（）という関数がある。\n",
        "- マルチプロセスで時間計測をするときには、MPI_Barrier関数を呼んで全員が揃ってからタイマーをスタートしもう一度Barrier関数を呼んでストップする。"
      ]
    },
    {
      "cell_type": "code",
      "metadata": {
        "id": "FJGBOcFiyMK5",
        "colab": {
          "base_uri": "https://localhost:8080/"
        },
        "outputId": "6fed1c9b-e23b-4453-9f91-e8ec95258295"
      },
      "source": [
        "%%file time_measure_mpi.c\n",
        "#include<stdio.h>\n",
        "#include<mpi.h>\n",
        "\n",
        "int main()\n",
        "{\n",
        "  double s,e;\n",
        "  int my_rank, numproc, i,j=0;\n",
        "  MPI_Init(NULL, NULL);\n",
        "  MPI_Comm_rank(MPI_COMM_WORLD, &my_rank);\n",
        "  MPI_Comm_size(MPI_COMM_WORLD, &numproc);\n",
        "\n",
        "  //timer 1 ----\n",
        "  MPI_Barrier(MPI_COMM_WORLD);\n",
        "  s=MPI_Wtime();\n",
        "\n",
        "  for(i=0;i<10000000;i++) j++;\n",
        "\n",
        "  //timer 2 ----\n",
        "  MPI_Barrier(MPI_COMM_WORLD);\n",
        "  e=MPI_Wtime();\n",
        "\n",
        "  //timer 1,2の間の時間の表示\n",
        "  if(my_rank==0) printf(\"%lf second \\n\", e-s);\n",
        "\n",
        "  MPI_Finalize();\n",
        "  return 0;\n",
        "}"
      ],
      "execution_count": 10,
      "outputs": [
        {
          "output_type": "stream",
          "name": "stdout",
          "text": [
            "Overwriting time_measure_mpi.c\n"
          ]
        }
      ]
    },
    {
      "cell_type": "code",
      "metadata": {
        "id": "TGXKgK-5zCEK",
        "colab": {
          "base_uri": "https://localhost:8080/"
        },
        "outputId": "d63b604c-e85f-4652-be70-b54721f36e35"
      },
      "source": [
        "! mpicc time_measure_mpi.c\n",
        "! mpirun --allow-run-as-root --oversubscribe -np 20 ./a.out"
      ],
      "execution_count": 8,
      "outputs": [
        {
          "output_type": "stream",
          "name": "stdout",
          "text": [
            "0.854425 second \n"
          ]
        }
      ]
    }
  ]
}